{
 "cells": [
  {
   "cell_type": "raw",
   "id": "e6deed93-21bb-41a9-b2ec-c8903598bda6",
   "metadata": {},
   "source": [
    "## Basic Python Tutorial\n",
    "Welcome to the introductory notebook on python programming basics for the course: Theoretical modelling in Biology. This notebook will only cover fundamental basic concepts of Python. More advanced concepts will be addressed during the course but Python, being one of the most popular programming languages, has plenty of online resources and tutorials if you are interested in programming.  \n",
    "\n",
    "### What is Python?\n",
    "Python is a general-purpose programming language created in 1989. Python's elegant syntax, high readability of it's code and the fact that it is freely available make it an ideal programming language for beginners. Nevertheless, it's extensive package libraries and large engaged user community has resulted in Python being popular among professionals as well. Many leading companies use the Python programming language, including NASA, Google, YouTube, etc. \n",
    "\n",
    "### The Python interpreter and IDE\n",
    "The python interpreter is a kind of program that reads, interpretes and executes the code you provide it line by line. An IDE or integrated development environment is a software application that we use to write our code. It's basically a text editor with benefits in that it has basic tools that help you with writing error-free code.   \n",
    "\n",
    "We are using Jupyterlab as our IDE. Jupyter provides a notebook-style environment, which combines code execution, text and plots. This is ideal for research purposes as it allows you to explain each step what you are doing and why, increasing readability and repeatability.\n",
    "\n",
    "A jupyter notebook is typically composed of text (Markdown) cells and code cells. You can change this by using the dropdown menu at the top of the notebook.   \n",
    "\n",
    "Markdown text cell contain text that is formatted using the Markdown language. This means that if you want to center-align text, **bold** or *italicize* words, you will need to use a specific command. If you are interested in Markdown, see https://www.markdownguide.org/cheat-sheet/. Code cells are cells that actually interpreted by Python and executed. The output, text or plot, appears below the cell. To run a cell, highlight the cell and press shift+enter.\n",
    "\n",
    "The current cell is a markdown cell. "
   ]
  },
  {
   "cell_type": "code",
   "execution_count": 1,
   "id": "32cedf56-3ec8-459d-afe0-29510e3a05f6",
   "metadata": {},
   "outputs": [
    {
     "name": "stdout",
     "output_type": "stream",
     "text": [
      "This is a code cell\n"
     ]
    }
   ],
   "source": [
    "#This is a code cell, everything inside this cell will be executed unless a # precedes the text. This line will be ignored.\n",
    "print('This is a code cell') #The `print()` function prints a specified message to the output."
   ]
  },
  {
   "cell_type": "markdown",
   "id": "beb1de90-7510-4ed6-8d93-60e772ba4500",
   "metadata": {},
   "source": [
    "## Some basic syntax.\n",
    "Python variables are containers for storing data values. A variable is created using the `=` sign. A variable can be an integer, float (a number with a decimal place), string (text), list,..."
   ]
  },
  {
   "cell_type": "markdown",
   "id": "f256ba6e-7b86-495c-95d7-d7aef91679dc",
   "metadata": {},
   "source": [
    "a=1 \n",
    "b=\"this is a string\" #b equals a string. Strings are a sequence of text characters. Strings are always enclosed by single or double quotes."
   ]
  },
  {
   "cell_type": "code",
   "execution_count": null,
   "id": "fa8e834b-187e-4613-add3-76a4b63157a3",
   "metadata": {},
   "outputs": [],
   "source": [
    "a #if you run a variable name, the interpreter returns its contents"
   ]
  },
  {
   "cell_type": "code",
   "execution_count": null,
   "id": "e349d8dd-ca65-415d-b094-975bea9362b0",
   "metadata": {},
   "outputs": [],
   "source": [
    "b"
   ]
  },
  {
   "cell_type": "markdown",
   "id": "b956700f-565c-4472-8973-e60881c66297",
   "metadata": {},
   "source": [
    "You can also assign multiple variables in a single line"
   ]
  },
  {
   "cell_type": "code",
   "execution_count": null,
   "id": "62ee47f6-5a8f-498b-808e-579359980e01",
   "metadata": {},
   "outputs": [],
   "source": [
    "c,d,e = 'black','yellow','red'\n",
    "\n",
    "print(c)\n",
    "print(d)\n",
    "print(e)"
   ]
  },
  {
   "cell_type": "markdown",
   "id": "a159dd2c-d915-481e-b4a9-94a439b443ea",
   "metadata": {},
   "source": [
    "### Basic operations.  \n",
    "Python can act as a simple calculator. The operators +, -, * and / work just like a regular calculator.\n",
    "\n",
    "|Operator|\tName|\tExample|\t\n",
    "|--|--|--|\n",
    "|+\t|Addition\t|x + y\t\n",
    "|-\t|Subtraction\t|x - y\t\n",
    "|*\t|Multiplication\t|x * y\t\n",
    "|/\t|Division|\tx / y\t\n",
    "|%\t|Modulus|\tx % y\t\n",
    "|**\t|Exponentiation\t|x ** y\t\n",
    "|//\t|Floor division\t|x // y\n",
    "Note: x % y returns the remainder of the divsion of x / y. E.g. 5%2=1"
   ]
  },
  {
   "cell_type": "code",
   "execution_count": null,
   "id": "63ad8078-57ac-49a3-a666-262bf6fd6414",
   "metadata": {},
   "outputs": [],
   "source": [
    "2+2-1"
   ]
  },
  {
   "cell_type": "code",
   "execution_count": null,
   "id": "5792834f-6085-44c7-a26e-3acf58b3e514",
   "metadata": {},
   "outputs": [],
   "source": [
    "(2*3)/4"
   ]
  },
  {
   "cell_type": "code",
   "execution_count": null,
   "id": "8fad16a1-e41d-45bb-a602-ff50824835ef",
   "metadata": {},
   "outputs": [],
   "source": [
    "#** is used to calculate powers\n",
    "3**3 #3 to the power of 3"
   ]
  },
  {
   "cell_type": "markdown",
   "id": "09c24356-2856-45a6-b030-4cf415ade8a5",
   "metadata": {},
   "source": [
    "You can also perform these operations on strings "
   ]
  },
  {
   "cell_type": "code",
   "execution_count": null,
   "id": "a9f49f3d-1b8b-41bd-a544-8a9c70c07b87",
   "metadata": {},
   "outputs": [],
   "source": [
    "'String' + 'String'"
   ]
  },
  {
   "cell_type": "code",
   "execution_count": null,
   "id": "7e0c5591-657e-43d3-9712-786d87fd88cc",
   "metadata": {},
   "outputs": [],
   "source": [
    "'String' * 3"
   ]
  },
  {
   "cell_type": "markdown",
   "id": "d6c6d97c-f08f-42c5-9436-0315bb65bb1b",
   "metadata": {},
   "source": [
    "### Working with lists.  \n",
    "A list groups different items. items are comma-separated between square brackets and can be anything."
   ]
  },
  {
   "cell_type": "code",
   "execution_count": null,
   "id": "ba1419dc-36c4-4d1d-984d-03ff0848959b",
   "metadata": {},
   "outputs": [],
   "source": [
    "firstList = [1,2.5,'string',True,[a,b]] #A list with an integer, real number, string, boolean and a list containing the previous assigned varaibles. \n",
    "firstList[0] #call first item of list, python indexes start with 0'th element"
   ]
  },
  {
   "cell_type": "markdown",
   "id": "e18b1ee6-10d7-49d6-9ae9-cd774cf42f32",
   "metadata": {},
   "source": [
    "Items from a list can be accessed using their index."
   ]
  },
  {
   "cell_type": "code",
   "execution_count": null,
   "id": "d18edbd3-c399-4765-83b7-cb06186b3907",
   "metadata": {},
   "outputs": [],
   "source": [
    "print(firstList[3]) #print the fourth item of the list. Note: The first item of a python list has index 0!"
   ]
  },
  {
   "cell_type": "markdown",
   "id": "ecf6f25f-6db8-4011-972d-793f6c42b23e",
   "metadata": {},
   "source": [
    "You can access items using some more advanced indexing techniques."
   ]
  },
  {
   "cell_type": "code",
   "execution_count": null,
   "id": "819f7f24-a6ab-42ba-8e21-a990096b946b",
   "metadata": {},
   "outputs": [],
   "source": [
    "print(firstList[-1]) #negative indexes allow you to access the last items. -1 refers to the last item.\n",
    "print(firstList[1:3]) #You can specify a range using :"
   ]
  },
  {
   "cell_type": "markdown",
   "id": "94ed4bd8-0767-4b62-9702-e5ce67fd551a",
   "metadata": {},
   "source": [
    "To add items to a list, you can use the `append()` method. "
   ]
  },
  {
   "cell_type": "code",
   "execution_count": null,
   "id": "fc8ca882-694f-438f-b3d2-0a98b718aa6f",
   "metadata": {},
   "outputs": [],
   "source": [
    "print(firstList)\n",
    "firstList.append('Appended string')\n",
    "print(firstList)"
   ]
  },
  {
   "cell_type": "markdown",
   "id": "b7601b57-ce08-4452-95b8-3b03a437db1c",
   "metadata": {},
   "source": [
    "A command that we will use often is the `len()` function. This function returns you the length of a list."
   ]
  },
  {
   "cell_type": "code",
   "execution_count": null,
   "id": "0ee02562-7029-44ba-bdaf-8fab5e652ebc",
   "metadata": {},
   "outputs": [],
   "source": [
    "len(firstList) #determine length of a list"
   ]
  },
  {
   "cell_type": "markdown",
   "id": "9437bb10-0838-4553-8b81-2ced7ce84ada",
   "metadata": {},
   "source": [
    "## for loops  \n",
    "For loops allow you to iterate over a list (and do something iteratively).\n"
   ]
  },
  {
   "cell_type": "code",
   "execution_count": null,
   "id": "6dca51fb-349f-4756-9af0-ce00ca83ea5e",
   "metadata": {},
   "outputs": [],
   "source": [
    "for element in firstList:\n",
    "    print(element)"
   ]
  },
  {
   "cell_type": "code",
   "execution_count": null,
   "id": "a68d19b8-6d8a-4c7b-ad3d-f728bf8ca76d",
   "metadata": {},
   "outputs": [],
   "source": [
    "# you can also loop over a string\n",
    "for letter in \"Evolution\":\n",
    "    print(letter)"
   ]
  },
  {
   "cell_type": "markdown",
   "id": "8a66c792-071c-4139-98eb-9e1070d3e89e",
   "metadata": {},
   "source": [
    "If you dont have a list to iterate over but you want to do something a number of times, you can use the range(start,stop,stepsize) function.\n",
    "https://www.w3schools.com/python/ref_func_range.asp"
   ]
  },
  {
   "cell_type": "code",
   "execution_count": null,
   "id": "931a3ae3-b5a3-402a-b666-731765f5bce4",
   "metadata": {},
   "outputs": [],
   "source": [
    "a=0\n",
    "for i in range(1,6,1): #if you want to perform a specific task 5 times, the range function comes in handy. \n",
    "    a=a+i\n",
    "    print(i)\n",
    "    \n",
    "print(\"a=\"+str(a))"
   ]
  },
  {
   "cell_type": "markdown",
   "id": "573ff130-8279-45b4-b56c-71e805c21fb9",
   "metadata": {},
   "source": [
    "## If-else statements\n",
    "The if and else statements allow you check if something is true using the python comparators. If the 'if' condition is true, the 'if' code is executed, and if the condition is false the else code is executed. \n",
    "\n",
    "\n",
    "|Python Comparators |\tSymbols|\n",
    "|---|---|\n",
    "|greater than|\t>|\n",
    "|greater than or equal to|\t>=|\n",
    "|less than|\t<|\n",
    "|less than or equal to|\t<=|\n",
    "|equal to|\t==|\n",
    "|not equal to|\t!=|\n"
   ]
  },
  {
   "cell_type": "code",
   "execution_count": null,
   "id": "dfc39f25-f355-4024-9929-142af69f5166",
   "metadata": {},
   "outputs": [],
   "source": [
    "for element in firstList:\n",
    "    if element==2.5:\n",
    "        print('yes'+ ', element = '+str(element))\n",
    "    else:\n",
    "        print('nope'+ ', element = '+str(element))"
   ]
  },
  {
   "cell_type": "markdown",
   "id": "2692684c-833a-43f7-bbfe-6c1cdf1e815e",
   "metadata": {},
   "source": [
    "You can also check multiple conditions using 'and' or 'or'."
   ]
  },
  {
   "cell_type": "code",
   "execution_count": null,
   "id": "e669542c-648c-40a9-ad1d-2b5d5b85b4d4",
   "metadata": {},
   "outputs": [],
   "source": [
    "for element in firstList:\n",
    "    if element==2.5 or element=='string':\n",
    "        print('yes'+ ', element = '+str(element))\n",
    "    else:\n",
    "        print('nope'+ ', element = '+str(element))"
   ]
  },
  {
   "cell_type": "markdown",
   "id": "055cfc22-05ea-4df7-843d-65ec5e0a8960",
   "metadata": {},
   "source": [
    "If you want to stop the loop before it has looped through all items, you can use the `break` statement."
   ]
  },
  {
   "cell_type": "code",
   "execution_count": null,
   "id": "ac0fb1a9-d1e6-4cb8-9639-528ddfab6a2a",
   "metadata": {},
   "outputs": [],
   "source": [
    "for element in firstList:\n",
    "    if element==2.5:\n",
    "        print('yes'+ ', element = '+str(element))\n",
    "        print('Stopping loop')\n",
    "        break\n",
    "    else:\n",
    "        print('nope'+ ', element = '+str(element))   \n"
   ]
  },
  {
   "cell_type": "markdown",
   "id": "2d9f0c1a-eb09-41bb-9cde-316ec9e59d5d",
   "metadata": {},
   "source": [
    "There are also identity operators ('is' and 'is not') which check if objects are the same, and membership operators ('in' and 'not in') used to check if something is in a list."
   ]
  },
  {
   "cell_type": "code",
   "execution_count": null,
   "id": "d3cf2f86-4523-4cd2-ba82-cce0db5db77d",
   "metadata": {},
   "outputs": [],
   "source": [
    "for element in firstList:\n",
    "    if type(element) is list:\n",
    "        if 'this is a string' in element:\n",
    "            print(element)\n",
    "    else:\n",
    "        pass #the pass statement dsoes nothing"
   ]
  },
  {
   "cell_type": "markdown",
   "id": "b83efadf-eec4-4f54-b9ff-ee4d45f9f854",
   "metadata": {},
   "source": [
    "## Importing packages\n",
    "To import  packages use the `import package_name` command.  \n",
    "For example, let's to import the package 'math'. Math is a package to perform mathematical operations, see https://docs.python.org/3/library/math.html ."
   ]
  },
  {
   "cell_type": "code",
   "execution_count": null,
   "id": "ff8bb256-de32-4492-b076-a45994141dfc",
   "metadata": {},
   "outputs": [],
   "source": [
    "import math"
   ]
  },
  {
   "cell_type": "markdown",
   "id": "db6b78cb-8b69-44cf-8061-80202aa4f5e9",
   "metadata": {},
   "source": [
    "We can now use this package to do a mathematical operation. For example, return the base-2 log of 4."
   ]
  },
  {
   "cell_type": "code",
   "execution_count": null,
   "id": "2fa277e0-996c-46e5-9b7c-abf58814ead3",
   "metadata": {},
   "outputs": [],
   "source": [
    "math.log2(4)"
   ]
  },
  {
   "cell_type": "markdown",
   "id": "8879bbf0-b94b-4fad-8e0a-0f3091329c3c",
   "metadata": {},
   "source": [
    "Packages are often imported with the `as` command added followed by an abbreviated name of the package. This allows you to call function from this packages using this abbreviation. \n",
    "\n",
    "Let's import the package numpy as np. (https://numpy.org/doc/stable/reference/)  \n",
    "If the package is not available, you need to install it. You can do this using the the `pip install package_name` command."
   ]
  },
  {
   "cell_type": "code",
   "execution_count": null,
   "id": "9f51aa51-7d51-4b93-8c58-f9de9ea3c42b",
   "metadata": {},
   "outputs": [],
   "source": [
    "pip install numpy"
   ]
  },
  {
   "cell_type": "code",
   "execution_count": null,
   "id": "cc64cd07-7762-4fe1-b41e-e6b4ceae5fa6",
   "metadata": {},
   "outputs": [],
   "source": [
    "import numpy as np"
   ]
  },
  {
   "cell_type": "markdown",
   "id": "ea9807f1-315c-4614-9ede-973e07e89a3c",
   "metadata": {},
   "source": [
    "Let's use numpy to calculate the average of a list of numbers."
   ]
  },
  {
   "cell_type": "code",
   "execution_count": null,
   "id": "46025b24-d223-4385-970c-a29cd208c427",
   "metadata": {},
   "outputs": [],
   "source": [
    "list=[4,2]\n",
    "np.average(list)"
   ]
  },
  {
   "cell_type": "markdown",
   "id": "f56e24ea-ffcd-4c56-8039-08a5f747e0b6",
   "metadata": {},
   "source": [
    "## def keyword functions\n",
    "The def keyword allow you to define a function. A function in python is a logical unit of code containing a sequence of commands. The use of def functions allows for easy code reusability without rewriting the entire code again and again.\n",
    "\n",
    "Syntax:   \n",
    "def function_name(input parameters):  \n",
    "$\\;\\;\\;\\;\\;\\;$function statements...  \n",
    "$\\;\\;\\;\\;\\;\\;$return value\n",
    "\n",
    "Let's build a simple function that add 5 to a given number."
   ]
  },
  {
   "cell_type": "code",
   "execution_count": null,
   "id": "b47f77d7-3fef-4dee-ae96-37a0d0f9138d",
   "metadata": {},
   "outputs": [],
   "source": [
    "def my_first_function(x):\n",
    "    y=x+5\n",
    "    return y"
   ]
  },
  {
   "cell_type": "code",
   "execution_count": null,
   "id": "8ee68627-856a-46c9-9479-87dbe53dbbc2",
   "metadata": {},
   "outputs": [],
   "source": [
    "add5=my_first_function(5)\n",
    "add5"
   ]
  },
  {
   "cell_type": "markdown",
   "id": "af140d12-9c27-4855-bb6f-d03ec3025b7e",
   "metadata": {},
   "source": [
    "Functions can be as long and complicated as you want them to be.\n",
    "Let's build a function that checks if a number is a prime number."
   ]
  },
  {
   "cell_type": "code",
   "execution_count": null,
   "id": "364d1ed7-fad8-4d93-ac6b-911ccc27e0cd",
   "metadata": {},
   "outputs": [],
   "source": [
    "#function to check if x is a prime number\n",
    "def prime_number(x):\n",
    "    for i in range(2,x):\n",
    "        if (x%i) == 0: #% is \n",
    "            return str(x)+ ' is not a prime number'\n",
    "    return str(x)+ ' is a prime number'\n",
    "        \n"
   ]
  },
  {
   "cell_type": "code",
   "execution_count": null,
   "id": "1412688f-ab45-4d4c-8611-f1715a87814e",
   "metadata": {},
   "outputs": [],
   "source": [
    "prime_number(7)"
   ]
  },
  {
   "cell_type": "markdown",
   "id": "a8e0890f-2446-44fe-a4de-ab950475374a",
   "metadata": {},
   "source": [
    "## Plotting with Python\n",
    "An important part of modelling (and research in general) is visualizing your results in a consise and easily interpretable manner. Visualization in python is mostly done using the matplotlib package, which is an easy to learn plotting library.\n",
    "\n",
    "To use this library, we first have to import it. "
   ]
  },
  {
   "cell_type": "code",
   "execution_count": null,
   "id": "c2919886-443b-4eb8-ae87-ef0b6a0b7af1",
   "metadata": {},
   "outputs": [],
   "source": [
    "import matplotlib.pyplot as plt #pip install matplotlib if you dont have it installed."
   ]
  },
  {
   "cell_type": "markdown",
   "id": "81b53ee3-8eaf-4472-a450-7855792fe7f7",
   "metadata": {},
   "source": [
    "To plot a simple line chart, we can use plt.plot(x,y)."
   ]
  },
  {
   "cell_type": "code",
   "execution_count": null,
   "id": "dc5a9536-1bc1-4885-b695-484b410b638c",
   "metadata": {},
   "outputs": [],
   "source": [
    "x = [0,1,2,3,4,5,6,7,8,9,10]\n",
    "y =  np.sin(x)\n",
    "\n",
    "plt.plot(x, y)\n",
    "plt.xlabel('x')\n",
    "plt.ylabel('sin(x)')"
   ]
  },
  {
   "cell_type": "markdown",
   "id": "19674ccb-db2f-481e-8248-2ed61066d874",
   "metadata": {},
   "source": [
    "Matplotlib can of course do a lot more than just a simple line plot. You can also visualize barplots, boxplots, scatterplots,... which can be customized with tons of formatting functions. Check out the matplotlib gallery for inspiration when plotting: https://matplotlib.org/2.0.2/gallery.html "
   ]
  },
  {
   "cell_type": "markdown",
   "id": "6b525697-b342-4c60-939d-5a36c7cadbe8",
   "metadata": {},
   "source": [
    "Excellent! Now you're ready to start modelling!"
   ]
  },
  {
   "cell_type": "markdown",
   "id": "65eedbc9-a321-4c6c-b0ed-9c95b2af5b6f",
   "metadata": {},
   "source": [
    "### Further reading\n",
    "https://github.com/CodementorIO/Python-Learning-Resources  \n",
    "https://www.w3schools.com/python/default.asp  \n",
    "https://www.tutorialspoint.com/jupyter/index.htm  \n",
    "https://greenteapress.com/thinkpython/thinkpython.pdf  "
   ]
  }
 ],
 "metadata": {
  "kernelspec": {
   "display_name": "Python 3 (ipykernel)",
   "language": "python",
   "name": "python3"
  },
  "language_info": {
   "codemirror_mode": {
    "name": "ipython",
    "version": 3
   },
   "file_extension": ".py",
   "mimetype": "text/x-python",
   "name": "python",
   "nbconvert_exporter": "python",
   "pygments_lexer": "ipython3",
   "version": "3.8.1"
  }
 },
 "nbformat": 4,
 "nbformat_minor": 5
}
